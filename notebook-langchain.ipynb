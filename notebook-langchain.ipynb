{
 "cells": [
  {
   "cell_type": "code",
   "execution_count": 1,
   "metadata": {},
   "outputs": [],
   "source": [
    "from dotenv import load_dotenv\n",
    "\n",
    "load_dotenv()\n",
    "\n",
    "from ddtrace.llmobs import LLMObs\n",
    "\n",
    "LLMObs.enable()"
   ]
  },
  {
   "cell_type": "code",
   "execution_count": 2,
   "metadata": {},
   "outputs": [
    {
     "name": "stdout",
     "output_type": "stream",
     "text": [
      "선릉(宣陵)은 대한민국 서울특별시 강남구에 위치한 조선 왕조의 왕릉입니다. 선릉은 조선 제9대 왕인 성종(成宗)과 그의 왕비인 정희왕후(定熙王后)의 능으로, 성종은 1469년에 즉위하여 1494년에 사망하였습니다. 정희왕후는 성종의 재위 기간 동안 왕비로 있었으며, 성종의 사망 후에 그와 함께 모셔졌습니다.\n",
      "\n",
      "선릉은 역사적으로 중요한 유적지로, 조선 왕릉 중 하나로 문화재 지정도 되어 있습니다. 이곳은 자연 환경과의 조화가 잘 이루어져 있으며, 전통적인 한국의 무덤 양식인 '원형' 무덤 형태로 조성되어 있습니다. 선릉은 왕릉의 여유로운 경관과 고요한 분위기로 인해 많은 방문객들이 찾고 있습니다.\n",
      "\n",
      "또한, 선릉은 역사적인 의미 외에도 주변 공원과 함께 시민들에게 휴식 공간으로 제공되고 있어, 산책이나 운동을 즐기는 사람들에게 인기 있는 장소입니다. 이곳은 또한 UNESCO 세계유산으로 등재된 조선 왕릉의 일부분으로, 조선 왕조의 역사와 문화를 증명하는 중요한 유적입니다.\n",
      "----------------------------\n",
      "\n"
     ]
    },
    {
     "name": "stderr",
     "output_type": "stream",
     "text": [
      "sent 3.09KB in 1.27181s to https://llmobs-intake.datadoghq.com/api/v2/llmobs\n"
     ]
    },
    {
     "name": "stdout",
     "output_type": "stream",
     "text": [
      "선릉에 묻힌 정희왕후(定熙王后)는 조선 제9대 왕 성종의 왕비로, 본명은 한씨이며, 성종과는 혼인하여 고종과 정비인 경빈이치(景嬪李氏), 그리고 후에 왕세자로 책봉된 관종(光宗) 등 자녀를 두었습니다. \n",
      "\n",
      "정희왕후는 성종과의 혼인으로 인해 왕비의 위치에 올랐으며, 왕비로서의 역할을 수행하는 동안 성종의 통치에 큰 영향을 미쳤다고 전해집니다. 그녀는 성종의 정치적, 경제적, 문화적 정책을 지지하고 조정하면서 조선의 중흥기에 기여했습니다. \n",
      "\n",
      "정희왕후는 학문을 중시하고 문화 발전에 관심을 가졌으며, 후대로 이어지는 왕비들의 전통과 역할 모델이 되었습니다. 성종이 사망한 후, 그녀는 그의 곁에 묻히기 위해 선릉에 위치하게 되었고, 그녀의 능은 성종의 능과 함께 조화롭게 조성되었습니다.\n",
      "\n",
      "정희왕후는 그 자체로도 중요한 역사적 인물이지만, 조선 사회에서의 여성의 위치와 역할, 그리고 왕비의 정치적 영향력과 관련하여 현대의 연구에서도 흥미로운 주제로 다루어지고 있습니다.\n",
      "----------------------------\n",
      "\n"
     ]
    }
   ],
   "source": [
    "from openai import OpenAI\n",
    "\n",
    "client = OpenAI()\n",
    "messages = []\n",
    "messages.append({\"role\": \"system\", \"content\": \"You are a helpful assistant.\"})\n",
    "\n",
    "def send_message(message: str):\n",
    "    messages.append({\"role\": \"user\", \"content\": message})\n",
    "    completion = client.chat.completions.create(\n",
    "        model=\"gpt-4o-mini\",\n",
    "        messages=messages\n",
    "    )\n",
    "\n",
    "    return completion.choices[0].message\n",
    "\n",
    "for i in range(1,3):\n",
    "    answer = send_message(input(f\"{i} - 질문을 해주세요:\"))\n",
    "    print(f\"{answer.content}\\n----------------------------\\n\")\n",
    "\n",
    "    messages.append({\"role\": \"assistant\", \"content\": answer.content})\n"
   ]
  },
  {
   "cell_type": "code",
   "execution_count": 7,
   "metadata": {},
   "outputs": [
    {
     "data": {
      "text/plain": [
       "AIMessage(content='안녕하세요! 저를 DD-BOT이라고 부르셔도 좋고, 그냥 \"봇\"이라고 부르셔도 됩니다. 편하게 말씀해 주세요! 어떻게 도와드릴까요?', additional_kwargs={}, response_metadata={'token_usage': {'completion_tokens': 41, 'prompt_tokens': 45, 'total_tokens': 86, 'completion_tokens_details': {'accepted_prediction_tokens': 0, 'audio_tokens': 0, 'reasoning_tokens': 0, 'rejected_prediction_tokens': 0}, 'prompt_tokens_details': {'audio_tokens': 0, 'cached_tokens': 0}}, 'model_name': 'gpt-4o-mini', 'system_fingerprint': 'fp_0ba0d124f1', 'finish_reason': 'stop', 'logprobs': None}, id='run-f0f444a1-f766-423c-963b-2edfb17ef7d5-0')"
      ]
     },
     "execution_count": 7,
     "metadata": {},
     "output_type": "execute_result"
    }
   ],
   "source": [
    "from langchain_community.chat_models import ChatOpenAI, ChatOllama\n",
    "from langchain.prompts import ChatPromptTemplate\n",
    "\n",
    "llm = ChatOpenAI( temperature=1.0, model=\"gpt-4o-mini\" )\n",
    "#llm = ChatOllama( temperature=1.0, model=\"llama3:latest\" )\n",
    "\n",
    "template = ChatPromptTemplate.from_messages([\n",
    "    (\"system\", \"You are a helpful assistant DD-BOT.\"),\n",
    "    (\"ai\",\"Hi. My name is DD-BOT\"),\n",
    "    (\"human\", \"{question}\\n그리고 너를 뭐라고 부르면 될까?\")\n",
    "])\n",
    "\n",
    "prompt = template.format_messages(\"선릉과 정릉에 대해 설명해줘.\")\n",
    "answer = llm.invoke(prompt)\n",
    "print(f\"{answer.content}\\n----------------------------\\n\")"
   ]
  },
  {
   "cell_type": "code",
   "execution_count": 6,
   "metadata": {},
   "outputs": [
    {
     "data": {
      "text/plain": [
       "AIMessage(content='안녕하세요! 저를 \"DDBOT\"이라고 부르셔도 좋고, 그냥 \"AI\"나 \"도움이 필요한 AI\"라고 부르셔도 괜찮습니다. 여러분에게 도움이 필요한 질문이나 요청이 있다면 언제든지 말씀해 주세요!', additional_kwargs={}, response_metadata={'token_usage': {'completion_tokens': 57, 'prompt_tokens': 42, 'total_tokens': 99, 'completion_tokens_details': {'accepted_prediction_tokens': 0, 'audio_tokens': 0, 'reasoning_tokens': 0, 'rejected_prediction_tokens': 0}, 'prompt_tokens_details': {'audio_tokens': 0, 'cached_tokens': 0}}, 'model_name': 'gpt-4o-mini', 'system_fingerprint': 'fp_0ba0d124f1', 'finish_reason': 'stop', 'logprobs': None}, id='run-b57637da-753c-4497-aa10-0ce0b7983316-0')"
      ]
     },
     "execution_count": 6,
     "metadata": {},
     "output_type": "execute_result"
    }
   ],
   "source": [
    "\n",
    "# 위의 llm.invoke 로 바로 불러도 되지만, 아래처럼 chain 으로 부르면 더 편해짐\n",
    "chain = template | llm\n",
    "answer = chain.invoke({\"question\": input(f\"질문을 해주세요:\")})\n",
    "print(f\"{answer.content}\\n----------------------------\\n\")\n"
   ]
  },
  {
   "cell_type": "code",
   "execution_count": 16,
   "metadata": {},
   "outputs": [
    {
     "name": "stderr",
     "output_type": "stream",
     "text": [
      "I/O object is not JSON serializable. Defaulting to placeholder value instead.\n"
     ]
    },
    {
     "data": {
      "text/plain": [
       "['태조', '정종', '태종', '세종', '문종']"
      ]
     },
     "execution_count": 16,
     "metadata": {},
     "output_type": "execute_result"
    }
   ],
   "source": [
    "# 결과를 정리하는 Parser 를 만들어서, 랭체인에 추가할 수 있음.\n",
    "# DD 에서 task annotation 으로 추가도 가능.\n",
    "\n",
    "from langchain.schema import BaseOutputParser\n",
    "from ddtrace.llmobs.decorators import task\n",
    "\n",
    "class CommaOutputParser(BaseOutputParser):\n",
    "    @task()\n",
    "    def parse(self, text: str):\n",
    "        items = text.split(\",\")\n",
    "        return list(map(str.strip, items))\n",
    "    \n",
    "template = ChatPromptTemplate.from_messages([\n",
    "    (\"system\", \"너는 List를 만드는 기계야. 앞으로 답변은 모두 comma로 구분짓고, 최대 {max_items} 개까지만 답변해. 다른 것은 답변하지마.\"),\n",
    "    (\"human\", \"{question}\")\n",
    "])\n",
    "\n",
    "chain = template | llm | CommaOutputParser() \n",
    "\n",
    "chain.invoke({\n",
    "    \"max_items\":5,\n",
    "    \"question\":\"조선시대 왕들을 읇어봐\"\n",
    "})"
   ]
  },
  {
   "cell_type": "code",
   "execution_count": 22,
   "metadata": {},
   "outputs": [
    {
     "data": {
      "text/plain": [
       "\"하옵니다, 주인님. 선릉은 조선의 성종 대왕과 왕비 윤씨의 능이니, 역사적으로 매우 귀한 장소로 여겨지옵니다. 성종 대왕은 1469년부터 1494년까지 나라를 다스리셨고, 그 고운 통치 아래서 조선은 문화와 학문, 정치를 크게 발전시켰다 하옵니다.\\n\\n선릉은 서울 강남구에 위치하며, '원주형'이라 일컫는 한국의 전통적인 무덤 형태로 지어졌사옵니다. 여름과 겨울의 기후를 고려하여 정교하게 설계되었고, 왕과 왕비가 나란히 모셔져 있사옵니다. 주변은 자연과 조화를 이루도록 아름답게 꾸며져 있으며, 조선시대의 건축양식과 예술이 잘 드러나 있사옵니다.\\n\\n또한 선릉은 조선의 역사와 문화를 체험할 수 있는 중요한 장소로 여겨지며, 방문객들에게 많은 감동을 주는 곳이옵니다. 능역 안에는 다양한 조각과 비석, 정원이 조성되어 있어 문화재로서의 가치가 높아, 많은 관광객들이 이곳을 찾는답니다. 주인님도 한 번 다녀가시는 것이 어떠신지요?\""
      ]
     },
     "execution_count": 22,
     "metadata": {},
     "output_type": "execute_result"
    },
    {
     "name": "stderr",
     "output_type": "stream",
     "text": [
      "sent 23.05KB in 1.17043s to https://llmobs-intake.datadoghq.com/api/v2/llmobs\n"
     ]
    }
   ],
   "source": [
    "# 랭체인으로 LLM Call 의 결과도 다시 사용가능\n",
    "\n",
    "first_template = ChatPromptTemplate.from_messages([\n",
    "  (\"system\", \"You are a helpful assistant.\"),\n",
    "  (\"human\", \"{question}\")\n",
    "])\n",
    "\n",
    "first_chain = first_template | llm\n",
    "question = \"선릉에 대해 설명해줘.\"\n",
    "#result = first_chain.invoke({\"question\":question})\n",
    "#result\n",
    "\n",
    "pirate_prompt = ChatPromptTemplate.from_messages([\n",
    "    (\"system\",\"너는 이제 조선시대 노비야, 이제 아래 들어오는 human 메세지를 조선시대 노비처럼 말해줘.\"),\n",
    "    (\"human\",\"{human_message}\")\n",
    "])\n",
    "\n",
    "pirate_chain = pirate_prompt | llm\n",
    "\n",
    "final_chain = {\"human_message\":first_chain} | pirate_chain\n",
    "\n",
    "result = final_chain.invoke({\"question\":question})\n",
    "result.content"
   ]
  },
  {
   "cell_type": "code",
   "execution_count": 8,
   "metadata": {},
   "outputs": [
    {
     "name": "stderr",
     "output_type": "stream",
     "text": [
      "Created a chunk of size 2062, which is longer than the specified 1500\n",
      "Created a chunk of size 4177, which is longer than the specified 1500\n",
      "Created a chunk of size 1718, which is longer than the specified 1500\n",
      "Created a chunk of size 4045, which is longer than the specified 1500\n",
      "Created a chunk of size 2177, which is longer than the specified 1500\n",
      "Created a chunk of size 1700, which is longer than the specified 1500\n",
      "/var/folders/l4/gcv5br7s0pd3zwwmnyt30w9r0000gp/T/ipykernel_8821/1723271310.py:15: LangChainDeprecationWarning: The class `OpenAIEmbeddings` was deprecated in LangChain 0.0.9 and will be removed in 1.0. An updated version of the class exists in the :class:`~langchain-openai package and should be used instead. To use it run `pip install -U :class:`~langchain-openai` and import as `from :class:`~langchain_openai import OpenAIEmbeddings``.\n",
      "  embedder = OpenAIEmbeddings()\n"
     ]
    },
    {
     "data": {
      "text/plain": [
       "[(Document(metadata={'source': './kings.txt'}, page_content='연산군\\n1. 성종과 연산군이 오랜만에 밖에 바람 쐬러 나와서 성종이\\n‘융아, 좋지 않으냐?’ 하니 연산군이 소떼를 보며 ‘아바마마 저 송아지도 어미 소가 있는데 저는 왜 어미가 없습니까’ 라고 말했다.\\n2. 또 다른 야사에서는 연산이 동궁이었을 때 어느 날 성종에게 거리에서 나가 놀고 싶다고 하여 성종이 허락하였다. 저녁에 동궁이 궁궐로 돌아오자 성종이\\n“오늘은 밖에서 무엇을 보았느냐?” 하고 묻자 연산은\\n“구경할만한 것을 없었습니다. 다만 송아지 한 마리가 어미 소를 따라가는데 그 어미 소가 울면 송아지도 따라 우니 그것이 가장 부러운 일이었습니다.”\\n하여 성종이 가여워 눈물을 흘렸다는 일화가 전해짐.\\n3. 공부하는 걸 엄청 싫어하여, 왕자를 훈육하는 학자들이 엄청 고생을 했다고 한다.\\n매일 꾸중 듣고 야단맞아, 폐비 윤씨 사건이 일어났을 때 모두 죽여버렸다.\\n4. 춤을 잘 췄다고 한다.\\n5. 모후인 폐비 윤씨와 고려 공민왕의 비인 노국대장공주의 얼굴이 비슷하게 생겼다는 이유로 관공서에 노국대장공주의 초상화를 수집하게 한 일도 있었다.\\n6. 엄청난 꽃미남이었다고 한다.\\n보너스. 연산군에 대한 잘못된 사실들\\n연산군이 정치를 잘 하지 못하고 폭군의 모습을 다소 보인점은 사실이지만\\n몇가지 왜곡된 사실들이 있다.\\n1.연산군은 궁궐 담장 아래 백척 내에 있는 민가들을 철거하여 쫓아냈다\\n-하지만 이것은 원래 불법주택들이였다. 선왕, 후궁들의 모습이 민간에 노출되어서는 안된다는\\n법도에 의한 것들이였다. 그러나 연산군은 오히려 봄까지 기다려주고 주택의 등급을 나눠 무명을\\n보상으로 주고 대토 와 거주지까지 마련해 주었다\\n2.궁을 짓기 위해 열한 고을의 백성들을 내쫓았다\\n- 백성들을 내쫓은것은 사실이지만 그 수는 500여호에 불과했고 열한고을은 사관이\\n의도적으로 과장해서 쓴것이다. 또 지나가는 자는 죽여서 시신을 구경시키는 형을\\n내린다고 했으나 무덤이 있는 자들에게 명절 출입을 허가했으며 불법주택에도\\n보상을 해준 연산군이 보상을 안해줬을 가능성은 적다\\n게다가 궁은 큰집 50칸으로 몇몇 사대부들의 99칸 집들보다도 작은 크기였다.\\n3.연산군은 음란했다.\\n-연산군이 비구니를 간음했다는 일화가 있다. 그러나 연산군은 기생의 출입도 소문이 두려워 꺼렸던\\n인물인데 늙은 비구니를 몽둥이로 쫓고 젊은 비구니들을 간음했다는것은 말이 맞이 않는다.\\n-연산군이 여성 음악인들을 혼음했다는 이야기가 있다. 그러나 연산군에게 그들을 예술가들였을뿐이며\\n오히려 여성 음악인들은 사대부들에겐 첩을 들이는 통로였다. 사대부들은 연산군에게 연산군이\\n남성음악인들만 잔치때 내려주자 불만을 갖고 여성음악인들 을 내려달라는 주장을 하기도 했다.\\n-좋은 왕으로 묘사되는 성종은 16남 21녀를 가졌으나 그의 아들 연산군은 4남3녀만을 두었다\\n- 연산군이 백모인 월산대군 부인 박씨를 강간했다는 주장이 있다.\\n그리고 그녀가 죽자 임신을하고 약을 먹고 죽었다고 하였다\\n그러나 그녀의 나이를 추측해보면 그 때는 이미 쉰세살에서 쉰다섯으로 당시에 그나이엔 잉태가 불가능했다\\n4.정치는 하지않고 사냥을 즐겼다\\n-연산군은 군사력 강화를 원했던 왕이다. 연산군 5년 여진족이 백성들을 사로잡자\\n연산군은 정벌에 나서려 했으나 그때마다 신하들은 반대했다.\\n그 이유는 그들의 노비들이 부역에 나가는것을 원하지 않았기 때문이다.\\n사냥은 군사력 강화를 위했던것이고 이것이 신하들의 반대로 무산된 결과가 임진왜란이다.\\n5.폐비 윤씨사건으로 폭군이 되었다\\n- 완전히 틀린말은 아니지만 연관인들의 처형은 신하들을 무력화 시키려는 의도였기도 하다\\n그러나 훈구파를 무너트렸으면 사림을 불러들였어야 하는데 사림들조차 적으로 만들었으니\\n그를 보호할 사람은 없었다. 결국 연산군은 백성들에게는 폭군은 아니였지만\\n모든 사대부들에게는 적이였다. 그 결과 사관들에 의해 폭군으로 기록되었으며\\n그 기록이 지금까지 많은 사람들에게 믿어지고 있다'),\n",
       "  0.8092063587067011),\n",
       " (Document(metadata={'source': './kings.txt'}, page_content='광해군\\n선조가 세자를 가리기 위해 여러 왕자를 시험하였는데 “반찬을 만드는 것 중 무엇이 제일이냐?”라는 질문에 광해군이 “소금이옵니다” 라고 대답하였다.\\n임금이 그 이유를 묻자 “여러 가지 맛을 조화시키려면 소금이 아니면 안 됩니다.” 라고 답하여 그 현명함을 인정받았다.\\n이에 선조가 “너희에게 부족한 것이 있느냐?” 라고 묻자,\\n광해군은 “어머니가 일찍 돌아가신 것이 가장 애통하옵니다” 라고 답하였다.\\n\\n\\n효종\\n1.나르시즘에 빠져, 항상 거울을 볼 땐 스스로 만족에 차 웃음이 끊이질 않았다고 한다.\\n2.효종의 얼굴에 난 종기의 치료를 놓고 침으로 피를 빼내어 독기를 제거하자는 신가귀와 그에 반대하는 유후성이 싸웠다. 이에 왕이 가귀의 의견을 취하여 침을 놓았는데, 침구멍에서 피가 쏟아져 왕이 \"이제 정신이 좀 든다. 가귀가 아니면 큰일날 뻔했다\"라고 말했는데 침이 혈락(血絡)을 범하여 과다출혈로 사망. 어의 가귀는 조사결과 수전증 있는걸로 밝혀졌다\\n\\n\\n현종\\n1.유일하게 후궁을 두지 않은 왕이다.\\n\\n\\n숙종\\n1.신하들이 따뜻한 온돌방에서 꾸벅꾸벅 졸자 온돌을 빼버리고 얼음장에서 일하게 하였다.\\n2.관우의 팬이였다고 한다.'),\n",
       "  0.7267352600019181),\n",
       " (Document(metadata={'source': './kings.txt'}, page_content=\"태종\\n1. 직업정신 투철한 사관이 따라다니며 일 거수 일 투족을 다 기록해서 태종이 걷다 헛발질한 것도 적었다.\\n태종이 그건 제발 지워달라, 창피하다 애원까지 했는데도 사관은 끝까지 '왕이 길을 걷다 헛발질하다. 헛발질한 것을 적지 말라고 말한 것은 적지 말라 명하셨다' 라고 적었다.\\n2. 하도 사관이 쫓아다녀서 못 쫓아오게 멀리까지 사냥을 나갔는데 사관이 거기까지 말 타고 쫓아와 사냥기록을 적었다고 한다.\\n3. 태종은 아들 양녕대군이 너무 사고를 치고 돌아다니자 속이 상해 밤새 울어 목이 쉰 적도 있다고 한다.\\n그런데 더 재미있는 점은 양녕대군의 아들인 이혜는 아버지인 양녕대군보다 더 많은 사고를 쳐 양녕대군의 속을 썩혔고 결국 왕자의 아들의 직위인 '군'의 작위를 깎여 서산군에서 서산윤으로 강등당했다.\\n결국 이혜는 스스로 목숨을 끊기 위해 자살시도를 하였고 이틀 뒤 후유증으로 사망하였다.\\n(이혜는 사람을 때려 죽이라고 시키기도 하였고 직접 사람을 죽이기도 하였으며 남의 첩을 빼앗기도 하고 시전에서 종친들과 패싸움을 하였고 과격한 놀이판을 벌이다 놀이 중 사람이 죽어나가게 하기도 하였다. 실록에서는 이혜가 망가진 원인을 사랑했던 첩을 아버지에게 빼앗기고 난 후에 울화병이 생겨 이리 되었다고 한다.)\\n4.태종은 운명론자가 아닌 현실론자였는데 태종이 세종에게 양위한\\n어느날은 우연히 하급관리 두명의 토론을 듣게 되었다\\n한명은 부귀영화는 모두 임금에게서 나오는것이라고 하였고 도 한명은 하늘이 정하는 것이라고 하였다\\n현실론자였던 태종은 부귀영화가 임금에게 나온다고 주장하는 사람에게 한품계를 올려주려 하려고\\n그 관리에게 '지금 가는 아무개에게 한 품계를 올려주도록 하시오'라는 종이를 세종에게 전해주라고 하였다\\n그러나 그 관리는 갑작스러운 복통으로 운명론자인 관리에게 대신 종이를 전해주라 하였고 결국은 그 관리가\\n진급을 하였다.\\n5. 조선왕들중 가장 많은 자식을 가진 왕으로 12남 17녀, 29명의 자식을 가졌다.\"),\n",
       "  0.7203785458689596),\n",
       " (Document(metadata={'source': './kings.txt'}, page_content=\"세종\\n1. 세종대왕은 좋아하던 후궁에게 신하들 몰래 따로 불러서 말없이\\n귤 하나를 쑥- 내밀어 준 얘기도 있다. (그 당시 귤이 귀한 것이었다.)\\n2. 친경한다고, 소 끌고 밭 갈다가 갑자기 비가 내리자 배고픔을 못 견뎌, 밭 갈던 소를 때려잡아서 국 끓여 먹은 적도...\\n3. 명재상 황희는 청백리가 되고 싶어서 된 게 아니었다.\\n임금이 사람을 붙여 철저하게 감시하고 너무도 기분 나쁘게 점검하는 바람에 ‘내참 더러워서 뇌물 먹지 않으리라’ 결심한 케이스다.\\n4. 훈민정음 반포식을 축하하는 잔치 행사에는 집현전 학사 절반이 참석하지 못했다.\\n대부분이 살인적인 과중한 업무와 임금의 요구사항에 시달리다 못 견뎌 병석에 누운 탓이었다.\\n성군의 캐치프레이즈는 “신하가 고달파야 백성이 편안하다”였다.\\n5. 세종은 부하들을 휘몰아치는데 도가 튼 인물이었다.\\n아침 조회 격인 새벽 4시 상참에서부터 과업 달성이 부진한 부하들을 닦달하였다.\\n밤낮으로 시달리다 못한 김종서의 경우 임금 곁에 있다가는 제명에 못살 것 같아, 스스로 궁궐을 떠나 삭풍이 몰아치는 북방을 개척하겠다고 손을 들고 나섰다.\\n정인지는 임금이 너무 독촉하고 소위 ‘갈구 대는’ 바람에 모친 3년 상을 핑계로 상소를 올리고 낙향하려 했으나,\\n임금은 법령까지 바꿔서 그를 다시 붙잡아다 오히려 일을 더 시켰다.\\n6. 양녕대군이 평안도를 유람하게 되어 세종은 형인 양녕대군에게 ‘제발 여색을 조심하라’고 당부한다.\\n몰래 평안도 관찰사에게 명하기를\\n“만일 양녕대군이 기생을 가까이하거든 즉시 그 기생을 역마에 태워 서울로 올려 보내라” 라고 하였다.\\n양녕은 세종과의 약속도 있고 하여 가는곳마다 기생의 수청을 물리치고 근신하였으나, 그가 평안북도 정주에 이르렀을 때 그만 양녕의 마음을 사로잡는 절세의 미인이 나타났다.\\n양녕은 그날로 동침하고 귀신도 모르리라 자신했다.\\n그래서 시를 지어 하룻밤 풋사랑을 읊기를\\n“아무리 달이 밝다하나 우리 두사람의 베게를 들여다 보진 못할것이다.\\n그런데 바람은 어이해서 신방을 가린 엷은 휘장을 걷어 올리는가” 라 하였다.\\n그러나 이튿날 정주수령은 이 기생을 역마에 태워서 서울로 보냈다.\\n세종이 기생에게 명하기를 “너는 양녕대군이 읊은 시를 노래로 불러 익혀두라” 하였다.\\n양녕은 이런 사실도 모르고 유유히 서울로 돌아와 세종을 알현하였다.\\n세종: 잘 다녀오셨습니까. 제가 신신 당부한 말씀을 잘 지켜주셨는지요?\\n양녕: 물론입니다. 어찌 어명을 어기겠습니까? 한 번도 여색을 가까이 한 일 없습니다.\\n세종: 얼마나 수고가 많으셨습니까. 제가 형님의 노고를 덜어 드리고자 가무를 준비하였습니다.\\n양녕은 기생이 나와 노래하는 것을 보고 처음에는 누군지 몰랐다.\\n그런데 가사를 들어보니 자신이 지은 시구가 아닌가. 깜짝 놀란 양녕은 그 자리에서 땅에 엎드려 용서를 빌었다.\\n세종을 웃으며 뜰에 내려와 형님의 손을 잡고 위로하면서 그날 밤 그 기생을 양녕댁에 보냈다.\\n7.양녕대군과 세종은 원래 우애가 깊지 않았다. 태종은 양녕과 효령과는 별로 친하게 지내지 않았지만\\n유독 충녕, 즉 세종을 편애 하였다. 게다가 세종은 알려진것과 같이 머리가 아주 좋았고 공부를 좋아했다.\\n태종이 충녕에게 나중에 '너는 할일이 없으니 놀아라'라고 하며 글씨,그림, 비파등을 마련해준 때가 있었다.\\n그 때 양녕은 충녕에게 비파를 배우며 서로 친해졌고 다른 면에서 보면 자신의 경쟁자였던 충녕이 공부를\\n포기 했기 때문에 위기의식을 느끼지 않았기 때문일것이다. 그 후로는 양녕대군도 공부에 열심이었다.\\n그러나 세종은 비파, 글씨 등에 관심이 있지 않았고 언젠가부터 다시 학문에 관심을 가지고 양녕에게\\n많은 충고를 하였다. 양녕은 열등감으로 인해 방황하였고 다시 비행에 빠져들게 되어, 결국 세자 자리에서\\n쫓겨나게 되었고 그 자리는 세종이 차지하게 됬다.\\n8. 나라에 큰 일이 있어, 모두 고기를 먹지 않는 기간이었다.\\n태종은 특별히 세종에게는 삼시 세끼 고기를 챙겨먹도록 하였는데…\\n그것은 충녕(세종)이 고기가 없으면 밥을 먹지 않았기 때문이다.\"),\n",
       "  0.7177081636941578)]"
      ]
     },
     "execution_count": 8,
     "metadata": {},
     "output_type": "execute_result"
    },
    {
     "name": "stderr",
     "output_type": "stream",
     "text": [
      "sent 79.8KB in 1.20821s to https://llmobs-intake.datadoghq.com/api/v2/llmobs\n"
     ]
    }
   ],
   "source": [
    "from langchain_community.document_loaders import TextLoader\n",
    "from langchain.text_splitter import CharacterTextSplitter\n",
    "from langchain.embeddings import OllamaEmbeddings, OpenAIEmbeddings\n",
    "from langchain_community.vectorstores import FAISS, Chroma\n",
    "\n",
    "loader = TextLoader(\"./kings.txt\")\n",
    "\n",
    "splitter = CharacterTextSplitter.from_tiktoken_encoder( \n",
    "    separator=\"\\n\\n\",\n",
    "    chunk_size=1500, \n",
    "    chunk_overlap=100\n",
    ")\n",
    "docs = loader.load_and_split(text_splitter=splitter)\n",
    "\n",
    "embedder = OpenAIEmbeddings()\n",
    "\n",
    "# 문서 임베딩해서 벡터디비로 반환\n",
    "vector_store = FAISS.from_documents(docs, embedder)\n"
   ]
  },
  {
   "cell_type": "code",
   "execution_count": null,
   "metadata": {},
   "outputs": [],
   "source": [
    "\n",
    "# 질문 임베딩 후에, 유사 문서 검색\n",
    "query = \"연산군과 관련된 것을 알려줘.\"\n",
    "results = vector_store.similarity_search_with_relevance_scores(query)\n",
    "results\n"
   ]
  },
  {
   "cell_type": "code",
   "execution_count": 9,
   "metadata": {},
   "outputs": [
    {
     "data": {
      "text/plain": [
       "AIMessage(content='어린 나이에 아버지를 잃은 왕은 헌종입니다.', additional_kwargs={}, response_metadata={'token_usage': {'completion_tokens': 17, 'prompt_tokens': 1942, 'total_tokens': 1959, 'completion_tokens_details': {'accepted_prediction_tokens': 0, 'audio_tokens': 0, 'reasoning_tokens': 0, 'rejected_prediction_tokens': 0}, 'prompt_tokens_details': {'audio_tokens': 0, 'cached_tokens': 0}}, 'model_name': 'gpt-4o-mini', 'system_fingerprint': 'fp_9b78b61c52', 'finish_reason': 'stop', 'logprobs': None}, id='run-58a4142c-021b-4e7a-8a85-83a1c43071fd-0')"
      ]
     },
     "execution_count": 9,
     "metadata": {},
     "output_type": "execute_result"
    },
    {
     "name": "stderr",
     "output_type": "stream",
     "text": [
      "sent 42.53KB in 1.05813s to https://llmobs-intake.datadoghq.com/api/v2/llmobs\n"
     ]
    }
   ],
   "source": [
    "# 쿼리와 유사한 문서들을 가져오고, 문서들을 토대로 답변하기\n",
    "from langchain.schema.runnable import RunnablePassthrough\n",
    "\n",
    "retriever = vector_store.as_retriever()\n",
    "\n",
    "prompt = ChatPromptTemplate.from_messages([\n",
    "    (\"system\", \"너는 잘 답변하는 어시스턴트야. 이 뒤에 있는 입력된 문맥을 이용해서, 질문에 답변해줘. 답을 모른다면, 그냥 모른다고 답해. 억지롤 답을 만들면 안돼.\\n\\n{context}\"),\n",
    "    (\"human\", \"{question}\")\n",
    "])\n",
    "\n",
    "chain = (\n",
    "    {\n",
    "        \"context\":retriever, \n",
    "        \"question\":RunnablePassthrough()\n",
    "    } \n",
    "    | prompt \n",
    "    | llm \n",
    ")\n",
    "\n",
    "chain.invoke(\"어린 나이에 아버지를 잃은 왕을 일려줘.\")\n"
   ]
  },
  {
   "cell_type": "code",
   "execution_count": 21,
   "metadata": {},
   "outputs": [
    {
     "name": "stderr",
     "output_type": "stream",
     "text": [
      "/Users/kihyun.lee/work/gpt-notebook-test/.venv/lib/python3.11/site-packages/langchain/chains/llm.py:369: UserWarning: The apply_and_parse method is deprecated, instead pass an output parser directly to LLMChain.\n",
      "  warnings.warn(\n"
     ]
    },
    {
     "data": {
      "text/plain": [
       "'태종은 조선 왕들 중 가장 많은 자식을 가진 왕으로 12남 17녀, 총 29명의 자식을 두었다. 그는 자신의 자녀들이 정치와 사회에서 잘 성장할 수 있도록 많은 노력을 기울였던 것으로 보인다. 특히 태종은 현실론자였고, 그의 자녀들은 그가 남긴 유산과 시대의 변화 속에서 중요한 역할을 하게 되었다. 태종은 또한 아들 양녕대군의 행동에 속상해 밤새 울었던 일화가 있으며, 양녕대군의 아들 이혜는 더 많은 사고를 쳐 결국 왕자의 작위를 잃고 비극적인 결말을 맞았다. 이런 가족 내사적인 사건들은 태종의 복잡한 가정사와 자식 양육에 대한 그의 큰 영향을 보여준다. '"
      ]
     },
     "execution_count": 21,
     "metadata": {},
     "output_type": "execute_result"
    },
    {
     "name": "stderr",
     "output_type": "stream",
     "text": [
      "sent 124.72KB in 1.50415s to https://llmobs-intake.datadoghq.com/api/v2/llmobs\n"
     ]
    }
   ],
   "source": [
    "# 쿼리와 유사한 문서들을 가져오고, 문서들을 Re-Ranking 해서 답변하기\n",
    "from langchain.chains import RetrievalQA\n",
    "from ddtrace.llmobs.decorators import workflow\n",
    "\n",
    "chain = RetrievalQA.from_chain_type(\n",
    "    llm=llm,\n",
    "    chain_type=\"map_rerank\",\n",
    "    retriever=vector_store.as_retriever() \n",
    ")\n",
    "\n",
    "@workflow\n",
    "def answer_question(query):\n",
    "    LLMObs.annotate(\n",
    "        input_data=query,\n",
    "    )\n",
    "    result = chain.invoke(query)\n",
    "    return result['result']\n",
    "\n",
    "query = \"조선 왕들 중 가장 많은 자식을 가진 왕에 대해 설명해줘.\"\n",
    "#query = \"조선 왕들 중 자식 사랑이 남달랐던 왕에 대해 설명해줘.\"\n",
    "answer_question(query)\n"
   ]
  }
 ],
 "metadata": {
  "kernelspec": {
   "display_name": ".venv",
   "language": "python",
   "name": "python3"
  },
  "language_info": {
   "codemirror_mode": {
    "name": "ipython",
    "version": 3
   },
   "file_extension": ".py",
   "mimetype": "text/x-python",
   "name": "python",
   "nbconvert_exporter": "python",
   "pygments_lexer": "ipython3",
   "version": "3.11.9"
  }
 },
 "nbformat": 4,
 "nbformat_minor": 2
}
