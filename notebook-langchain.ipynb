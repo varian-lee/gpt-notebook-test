{
 "cells": [
  {
   "cell_type": "code",
   "execution_count": null,
   "metadata": {},
   "outputs": [],
   "source": [
    "from dotenv import load_dotenv\n",
    "\n",
    "load_dotenv()\n",
    "\n",
    "from ddtrace.llmobs import LLMObs\n",
    "\n",
    "LLMObs.enable()"
   ]
  },
  {
   "cell_type": "code",
   "execution_count": null,
   "metadata": {},
   "outputs": [],
   "source": [
    "from openai import OpenAI\n",
    "\n",
    "client = OpenAI()\n",
    "messages = []\n",
    "messages.append({\"role\": \"system\", \"content\": \"You are a helpful assistant.\"})\n",
    "\n",
    "def send_message(message: str):\n",
    "    messages.append({\"role\": \"user\", \"content\": message})\n",
    "    completion = client.chat.completions.create(\n",
    "        model=\"gpt-4o-mini\",\n",
    "        messages=messages\n",
    "    )\n",
    "\n",
    "    return completion.choices[0].message\n",
    "\n",
    "for i in range(1,3):\n",
    "    answer = send_message(input(f\"{i} - 질문을 해주세요:\"))\n",
    "    print(f\"{answer.content}\\n----------------------------\\n\")\n",
    "\n",
    "    messages.append({\"role\": \"assistant\", \"content\": answer.content})\n"
   ]
  },
  {
   "cell_type": "code",
   "execution_count": null,
   "metadata": {},
   "outputs": [],
   "source": [
    "from langchain_community.chat_models import ChatOpenAI, ChatOllama\n",
    "from langchain.prompts import ChatPromptTemplate\n",
    "\n",
    "llm = ChatOpenAI( temperature=1.0, model=\"gpt-4o-mini\" )\n",
    "#llm = ChatOllama( temperature=1.0, model=\"llama3:latest\" )\n",
    "\n",
    "template = ChatPromptTemplate.from_messages([\n",
    "    (\"system\", \"You are a helpful assistant DD-BOT.\"),\n",
    "    (\"ai\",\"Hi. My name is DD-BOT\"),\n",
    "    (\"human\", \"{question}\\n그리고 너를 뭐라고 부르면 될까?\")\n",
    "])\n",
    "\n",
    "prompt = template.format_messages(question=\"선릉과 정릉에 대해 설명해줘.\")\n",
    "answer = llm.invoke(prompt)\n",
    "print(f\"{answer.content}\\n----------------------------\\n\")"
   ]
  },
  {
   "cell_type": "code",
   "execution_count": null,
   "metadata": {},
   "outputs": [],
   "source": [
    "\n",
    "# 위의 llm.invoke 로 바로 불러도 되지만, 아래처럼 chain 으로 부르면 더 편해짐\n",
    "chain = template | llm\n",
    "answer = chain.invoke({\"question\": \"선릉과 정릉에 대해 설명해줘.\"})\n",
    "print(f\"{answer.content}\\n----------------------------\\n\")\n"
   ]
  },
  {
   "cell_type": "code",
   "execution_count": null,
   "metadata": {},
   "outputs": [],
   "source": [
    "# 결과를 정리하는 Parser 를 만들어서, 랭체인에 추가할 수 있음.\n",
    "# DD 에서 task annotation 으로 추가도 가능.\n",
    "\n",
    "from langchain.schema import BaseOutputParser\n",
    "from ddtrace.llmobs.decorators import task\n",
    "\n",
    "class CommaOutputParser(BaseOutputParser):\n",
    "    @task()\n",
    "    def parse(self, text: str):\n",
    "        items = text.split(\",\")\n",
    "        return list(map(str.strip, items))\n",
    "    \n",
    "template = ChatPromptTemplate.from_messages([\n",
    "    (\"system\", \"너는 List를 만드는 기계야. 앞으로 답변은 모두 comma로 구분짓고, 최대 {max_items} 개까지만 답변해. 다른 것은 답변하지마.\"),\n",
    "    (\"human\", \"{question}\")\n",
    "])\n",
    "\n",
    "chain = template | llm | CommaOutputParser() \n",
    "\n",
    "chain.invoke({\n",
    "    \"max_items\":5,\n",
    "    \"question\":\"조선시대 왕들을 읇어봐\"\n",
    "})"
   ]
  },
  {
   "cell_type": "code",
   "execution_count": null,
   "metadata": {},
   "outputs": [],
   "source": [
    "# 랭체인으로 LLM Call 의 결과도 다시 사용가능\n",
    "\n",
    "first_template = ChatPromptTemplate.from_messages([\n",
    "  (\"system\", \"You are a helpful assistant.\"),\n",
    "  (\"human\", \"{question}\")\n",
    "])\n",
    "\n",
    "first_chain = first_template | llm\n",
    "question = \"선릉에 대해 설명해줘.\"\n",
    "#result = first_chain.invoke({\"question\":question})\n",
    "#result\n",
    "\n",
    "pirate_prompt = ChatPromptTemplate.from_messages([\n",
    "    (\"system\",\"너는 이제 조선시대 노비야, 이제 아래 들어오는 human 메세지를 조선시대 노비처럼 말해줘.\"),\n",
    "    (\"human\",\"{human_message}\")\n",
    "])\n",
    "\n",
    "pirate_chain = pirate_prompt | llm\n",
    "\n",
    "final_chain = {\"human_message\":first_chain} | pirate_chain\n",
    "\n",
    "result = final_chain.invoke({\"question\":question})\n",
    "result.content"
   ]
  },
  {
   "cell_type": "code",
   "execution_count": null,
   "metadata": {},
   "outputs": [],
   "source": [
    "from langchain_community.document_loaders import TextLoader\n",
    "from langchain.text_splitter import CharacterTextSplitter\n",
    "from langchain.embeddings import OllamaEmbeddings, OpenAIEmbeddings\n",
    "from langchain_community.vectorstores import FAISS, Chroma\n",
    "\n",
    "loader = TextLoader(\"./kings.txt\")\n",
    "\n",
    "splitter = CharacterTextSplitter.from_tiktoken_encoder( \n",
    "    separator=\"\\n\\n\",\n",
    "    chunk_size=1500, \n",
    "    chunk_overlap=100\n",
    ")\n",
    "docs = loader.load_and_split(text_splitter=splitter)\n",
    "\n",
    "embedder = OpenAIEmbeddings()\n",
    "\n",
    "# 문서 임베딩해서 벡터디비로 반환\n",
    "vector_store = FAISS.from_documents(docs, embedder)\n"
   ]
  },
  {
   "cell_type": "code",
   "execution_count": null,
   "metadata": {},
   "outputs": [],
   "source": [
    "\n",
    "# 질문 임베딩 후에, 유사 문서 검색\n",
    "query = \"연산군과 관련된 것을 알려줘.\"\n",
    "results = vector_store.similarity_search_with_relevance_scores(query)\n",
    "results\n"
   ]
  },
  {
   "cell_type": "code",
   "execution_count": null,
   "metadata": {},
   "outputs": [],
   "source": [
    "# 쿼리와 유사한 문서들을 가져오고, 문서들을 토대로 답변하기\n",
    "from langchain.schema.runnable import RunnablePassthrough\n",
    "\n",
    "retriever = vector_store.as_retriever()\n",
    "\n",
    "prompt = ChatPromptTemplate.from_messages([\n",
    "    (\"system\", \"너는 잘 답변하는 어시스턴트야. 이 뒤에 있는 입력된 문맥을 이용해서, 질문에 답변해줘. 답을 모른다면, 그냥 모른다고 답해. 억지롤 답을 만들면 안돼.\\n\\n{context}\"),\n",
    "    (\"human\", \"{question}\")\n",
    "])\n",
    "\n",
    "chain = (\n",
    "    {\n",
    "        \"context\":retriever, \n",
    "        \"question\":RunnablePassthrough()\n",
    "    } \n",
    "    | prompt \n",
    "    | llm \n",
    ")\n",
    "\n",
    "chain.invoke(\"어린 나이에 아버지를 잃은 왕을 일려줘.\")\n"
   ]
  },
  {
   "cell_type": "code",
   "execution_count": null,
   "metadata": {},
   "outputs": [],
   "source": [
    "# 쿼리와 유사한 문서들을 가져오고, 문서들을 Re-Ranking 해서 답변하기\n",
    "from langchain.chains import RetrievalQA\n",
    "from ddtrace.llmobs.decorators import workflow\n",
    "\n",
    "chain = RetrievalQA.from_chain_type(\n",
    "    llm=llm,\n",
    "    chain_type=\"map_rerank\",\n",
    "    retriever=vector_store.as_retriever() \n",
    ")\n",
    "\n",
    "@workflow\n",
    "def answer_question(query):\n",
    "    LLMObs.annotate(\n",
    "        input_data=query,\n",
    "    )\n",
    "    result = chain.invoke(query)\n",
    "    return result['result']\n",
    "\n",
    "query = \"조선 왕들 중 가장 많은 자식을 가진 왕?\"\n",
    "#query = \"조선 왕들 중 자식 사랑이 남달랐던 왕에 대해 설명해줘.\"\n",
    "answer_question(query)\n"
   ]
  }
 ],
 "metadata": {
  "kernelspec": {
   "display_name": ".venv",
   "language": "python",
   "name": "python3"
  },
  "language_info": {
   "codemirror_mode": {
    "name": "ipython",
    "version": 3
   },
   "file_extension": ".py",
   "mimetype": "text/x-python",
   "name": "python",
   "nbconvert_exporter": "python",
   "pygments_lexer": "ipython3",
   "version": "3.11.9"
  }
 },
 "nbformat": 4,
 "nbformat_minor": 2
}
